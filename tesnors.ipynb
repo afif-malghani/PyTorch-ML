{
 "cells": [
  {
   "cell_type": "markdown",
   "id": "da9b717f",
   "metadata": {},
   "source": [
    "# <center>Tensor Basics </center>"
   ]
  },
  {
   "cell_type": "markdown",
   "id": "d23d806d",
   "metadata": {},
   "source": [
    "Install pytorch for cpu only in the conda environment"
   ]
  },
  {
   "cell_type": "code",
   "execution_count": 3,
   "id": "204eb3ea",
   "metadata": {},
   "outputs": [
    {
     "name": "stdout",
     "output_type": "stream",
     "text": [
      "Collecting package metadata (current_repodata.json): done\n",
      "Solving environment: done\n",
      "\n",
      "## Package Plan ##\n",
      "\n",
      "  environment location: /home/afif/anaconda3\n",
      "\n",
      "  added / updated specs:\n",
      "    - cpuonly\n",
      "    - pytorch\n",
      "    - torchaudio\n",
      "    - torchvision\n",
      "\n",
      "\n",
      "The following packages will be downloaded:\n",
      "\n",
      "    package                    |            build\n",
      "    ---------------------------|-----------------\n",
      "    conda-4.14.0               |   py39h06a4308_0         915 KB\n",
      "    cpuonly-2.0                |                0           2 KB  pytorch\n",
      "    ffmpeg-4.3                 |       hf484d3e_0         9.9 MB  pytorch\n",
      "    gnutls-3.6.15              |       he1e5248_0         1.0 MB\n",
      "    lame-3.100                 |       h7b6447c_0         323 KB\n",
      "    libiconv-1.16              |       h7f8727e_2         736 KB\n",
      "    libtasn1-4.16.0            |       h27cfd23_0          58 KB\n",
      "    nettle-3.7.3               |       hbbd107a_1         809 KB\n",
      "    openh264-2.1.1             |       h4ff587b_0         711 KB\n",
      "    pytorch-1.12.1             |      py3.9_cpu_0        76.7 MB  pytorch\n",
      "    pytorch-mutex-1.0          |              cpu           3 KB  pytorch\n",
      "    torchaudio-0.12.1          |         py39_cpu         6.0 MB  pytorch\n",
      "    torchvision-0.13.1         |         py39_cpu         6.1 MB  pytorch\n",
      "    ------------------------------------------------------------\n",
      "                                           Total:       103.2 MB\n",
      "\n",
      "The following NEW packages will be INSTALLED:\n",
      "\n",
      "  cpuonly            pytorch/noarch::cpuonly-2.0-0\n",
      "  ffmpeg             pytorch/linux-64::ffmpeg-4.3-hf484d3e_0\n",
      "  gnutls             pkgs/main/linux-64::gnutls-3.6.15-he1e5248_0\n",
      "  lame               pkgs/main/linux-64::lame-3.100-h7b6447c_0\n",
      "  libiconv           pkgs/main/linux-64::libiconv-1.16-h7f8727e_2\n",
      "  libtasn1           pkgs/main/linux-64::libtasn1-4.16.0-h27cfd23_0\n",
      "  nettle             pkgs/main/linux-64::nettle-3.7.3-hbbd107a_1\n",
      "  openh264           pkgs/main/linux-64::openh264-2.1.1-h4ff587b_0\n",
      "  pytorch            pytorch/linux-64::pytorch-1.12.1-py3.9_cpu_0\n",
      "  pytorch-mutex      pytorch/noarch::pytorch-mutex-1.0-cpu\n",
      "  torchaudio         pytorch/linux-64::torchaudio-0.12.1-py39_cpu\n",
      "  torchvision        pytorch/linux-64::torchvision-0.13.1-py39_cpu\n",
      "\n",
      "The following packages will be UPDATED:\n",
      "\n",
      "  conda                               4.12.0-py39h06a4308_0 --> 4.14.0-py39h06a4308_0\n",
      "\n",
      "\n",
      "\n",
      "Downloading and Extracting Packages\n",
      "gnutls-3.6.15        | 1.0 MB    | ##################################### | 100% \n",
      "lame-3.100           | 323 KB    | ##################################### | 100% \n",
      "pytorch-1.12.1       | 76.7 MB   | ##################################### | 100% \n",
      "pytorch-mutex-1.0    | 3 KB      | ##################################### | 100% \n",
      "libiconv-1.16        | 736 KB    | ##################################### | 100% \n",
      "torchvision-0.13.1   | 6.1 MB    | ##################################### | 100% \n",
      "conda-4.14.0         | 915 KB    | ##################################### | 100% \n",
      "ffmpeg-4.3           | 9.9 MB    | ##################################### | 100% \n",
      "cpuonly-2.0          | 2 KB      | ##################################### | 100% \n",
      "nettle-3.7.3         | 809 KB    | ##################################### | 100% \n",
      "torchaudio-0.12.1    | 6.0 MB    | ##################################### | 100% \n",
      "libtasn1-4.16.0      | 58 KB     | ##################################### | 100% \n",
      "openh264-2.1.1       | 711 KB    | ##################################### | 100% \n",
      "Preparing transaction: done\n",
      "Verifying transaction: done\n",
      "Executing transaction: done\n"
     ]
    }
   ],
   "source": [
    "!conda install -y pytorch torchvision torchaudio cpuonly -c pytorch"
   ]
  },
  {
   "cell_type": "code",
   "execution_count": 4,
   "id": "8411c1fe",
   "metadata": {},
   "outputs": [],
   "source": [
    "import torch as pt"
   ]
  },
  {
   "cell_type": "markdown",
   "id": "eaf2ed85",
   "metadata": {},
   "source": [
    "## <center>Basic tensor creation methods</center>"
   ]
  },
  {
   "cell_type": "code",
   "execution_count": 90,
   "id": "0b2702df",
   "metadata": {},
   "outputs": [],
   "source": [
    "def getTensorDetails(tensorIn):\n",
    "    toPrint = \"\\n\\n\".join([\"Tensor: \"+str(tensorIn),\n",
    "                     \"dtype: \"+str(tensorIn.dtype),\n",
    "                     \"device: \"+str(tensorIn.device),\n",
    "                     \"shape: \"+str(tensorIn.shape),\n",
    "                    \"rerquires gradient?: \"+str(tensorIn.requires_grad)])\n",
    "    print(toPrint)"
   ]
  },
  {
   "cell_type": "code",
   "execution_count": 91,
   "id": "5e4aa04d",
   "metadata": {},
   "outputs": [
    {
     "name": "stdout",
     "output_type": "stream",
     "text": [
      "Tensor: tensor([[1, 2, 3],\n",
      "        [4, 5, 6]])\n",
      "\n",
      "dtype: torch.int64\n",
      "\n",
      "device: cpu\n",
      "\n",
      "shape: torch.Size([2, 3])\n",
      "\n",
      "rerquires gradient?: False\n"
     ]
    }
   ],
   "source": [
    "# Create a tensor from a nested list or a numpy array\n",
    "tensor = pt.tensor([[1, 2, 3],[4,5,6]])\n",
    "getTensorDetails(tensor)"
   ]
  },
  {
   "cell_type": "code",
   "execution_count": 92,
   "id": "cef745c2",
   "metadata": {},
   "outputs": [
    {
     "name": "stdout",
     "output_type": "stream",
     "text": [
      "Tensor: tensor([[1., 2., 3.],\n",
      "        [4., 5., 6.]])\n",
      "\n",
      "dtype: torch.float32\n",
      "\n",
      "device: cpu\n",
      "\n",
      "shape: torch.Size([2, 3])\n",
      "\n",
      "rerquires gradient?: False\n"
     ]
    }
   ],
   "source": [
    "# Create a tensor with a defined data type\n",
    "floatTensor = pt.tensor([[1, 2, 3],[4,5,6]], dtype=pt.float32)\n",
    "getTensorDetails(floatTensor)"
   ]
  },
  {
   "cell_type": "code",
   "execution_count": 93,
   "id": "53c1c57f",
   "metadata": {},
   "outputs": [
    {
     "name": "stdout",
     "output_type": "stream",
     "text": [
      "Tensor: tensor([[1., 2., 3.],\n",
      "        [4., 5., 6.]])\n",
      "\n",
      "dtype: torch.float32\n",
      "\n",
      "device: cpu\n",
      "\n",
      "shape: torch.Size([2, 3])\n",
      "\n",
      "rerquires gradient?: False\n"
     ]
    }
   ],
   "source": [
    "# Create a tensor with a specified device\n",
    "cpuFloatTensor = pt.tensor([[1, 2, 3], [4, 5, 6]], dtype=pt.float32, device=\"cpu\")\n",
    "getTensorDetails(cpuFloatTensor)"
   ]
  },
  {
   "cell_type": "code",
   "execution_count": 94,
   "id": "6cccea6d",
   "metadata": {},
   "outputs": [
    {
     "name": "stdout",
     "output_type": "stream",
     "text": [
      "Tensor: tensor([[1., 2., 3.],\n",
      "        [4., 5., 6.]])\n",
      "\n",
      "dtype: torch.float32\n",
      "\n",
      "device: cpu\n",
      "\n",
      "shape: torch.Size([2, 3])\n",
      "\n",
      "rerquires gradient?: False\n"
     ]
    }
   ],
   "source": [
    "# Set device based on availability, use that device for tensors\n",
    "device = \"cuda\" if pt.cuda.is_available() else \"cpu\"\n",
    "autoDeviceFloatTensor = pt.tensor([[1, 2, 3], [4, 5, 6]], dtype=pt.float32, device=device)\n",
    "getTensorDetails(autoDeviceFloatTensor)"
   ]
  },
  {
   "cell_type": "code",
   "execution_count": 95,
   "id": "57a2c258",
   "metadata": {},
   "outputs": [
    {
     "name": "stdout",
     "output_type": "stream",
     "text": [
      "Tensor: tensor([[1.4809e-16, 4.5897e-41, 1.4809e-16],\n",
      "        [4.5897e-41, 4.4842e-44, 0.0000e+00],\n",
      "        [1.5695e-43, 0.0000e+00, 3.0630e-08]])\n",
      "\n",
      "dtype: torch.float32\n",
      "\n",
      "device: cpu\n",
      "\n",
      "shape: torch.Size([3, 3])\n",
      "\n",
      "rerquires gradient?: False\n"
     ]
    }
   ],
   "source": [
    "emptyTensor = pt.empty(size=(3, 3))\n",
    "getTensorDetails(emptyTensor)"
   ]
  },
  {
   "cell_type": "code",
   "execution_count": 96,
   "id": "c06b3ead",
   "metadata": {},
   "outputs": [
    {
     "name": "stdout",
     "output_type": "stream",
     "text": [
      "Tensor: tensor([[0., 0., 0.],\n",
      "        [0., 0., 0.],\n",
      "        [0., 0., 0.]])\n",
      "\n",
      "dtype: torch.float32\n",
      "\n",
      "device: cpu\n",
      "\n",
      "shape: torch.Size([3, 3])\n",
      "\n",
      "rerquires gradient?: False\n"
     ]
    }
   ],
   "source": [
    "zerosTensor = pt.zeros((3, 3))\n",
    "getTensorDetails(zerosTensor)"
   ]
  },
  {
   "cell_type": "code",
   "execution_count": 97,
   "id": "6db5b275",
   "metadata": {},
   "outputs": [
    {
     "name": "stdout",
     "output_type": "stream",
     "text": [
      "Tensor: tensor([[1., 0., 0.],\n",
      "        [0., 1., 0.],\n",
      "        [0., 0., 1.]])\n",
      "\n",
      "dtype: torch.float32\n",
      "\n",
      "device: cpu\n",
      "\n",
      "shape: torch.Size([3, 3])\n",
      "\n",
      "rerquires gradient?: False\n"
     ]
    }
   ],
   "source": [
    "diagonalTensor = pt.diag(pt.ones(3))\n",
    "getTensorDetails(diagonalTensor)"
   ]
  },
  {
   "cell_type": "code",
   "execution_count": 98,
   "id": "5dfa59e7",
   "metadata": {},
   "outputs": [
    {
     "name": "stdout",
     "output_type": "stream",
     "text": [
      "Tensor: tensor([[0.2026, 0.6670, 0.9960],\n",
      "        [0.3750, 0.3054, 0.6437],\n",
      "        [0.5889, 0.2915, 0.2450]])\n",
      "\n",
      "dtype: torch.float32\n",
      "\n",
      "device: cpu\n",
      "\n",
      "shape: torch.Size([3, 3])\n",
      "\n",
      "rerquires gradient?: False\n"
     ]
    }
   ],
   "source": [
    "randomTensor = pt.rand((3, 3))\n",
    "getTensorDetails(randomTensor)"
   ]
  },
  {
   "cell_type": "code",
   "execution_count": 99,
   "id": "5557a30f",
   "metadata": {},
   "outputs": [
    {
     "name": "stdout",
     "output_type": "stream",
     "text": [
      "Tensor: tensor([[1., 1., 1.],\n",
      "        [1., 1., 1.],\n",
      "        [1., 1., 1.]])\n",
      "\n",
      "dtype: torch.float32\n",
      "\n",
      "device: cpu\n",
      "\n",
      "shape: torch.Size([3, 3])\n",
      "\n",
      "rerquires gradient?: False\n"
     ]
    }
   ],
   "source": [
    "onesTensor = pt.ones((3, 3))\n",
    "getTensorDetails(onesTensor)"
   ]
  },
  {
   "cell_type": "code",
   "execution_count": 100,
   "id": "f937a6fe",
   "metadata": {},
   "outputs": [
    {
     "name": "stdout",
     "output_type": "stream",
     "text": [
      "Tensor: tensor([[1., 0., 0., 0., 0.],\n",
      "        [0., 1., 0., 0., 0.],\n",
      "        [0., 0., 1., 0., 0.],\n",
      "        [0., 0., 0., 1., 0.],\n",
      "        [0., 0., 0., 0., 1.]])\n",
      "\n",
      "dtype: torch.float32\n",
      "\n",
      "device: cpu\n",
      "\n",
      "shape: torch.Size([5, 5])\n",
      "\n",
      "rerquires gradient?: False\n"
     ]
    }
   ],
   "source": [
    "identityTensor = pt.eye(5,5)\n",
    "getTensorDetails(identityTensor)"
   ]
  },
  {
   "cell_type": "code",
   "execution_count": 101,
   "id": "d0eaf80d",
   "metadata": {},
   "outputs": [
    {
     "name": "stdout",
     "output_type": "stream",
     "text": [
      "Tensor: tensor([ 0,  2,  4,  6,  8, 10, 12, 14, 16, 18])\n",
      "\n",
      "dtype: torch.int64\n",
      "\n",
      "device: cpu\n",
      "\n",
      "shape: torch.Size([10])\n",
      "\n",
      "rerquires gradient?: False\n"
     ]
    }
   ],
   "source": [
    "rangeTensor = pt.arange(start=0, end=20, step=2)\n",
    "getTensorDetails(rangeTensor)"
   ]
  },
  {
   "cell_type": "code",
   "execution_count": 102,
   "id": "f96fb721",
   "metadata": {},
   "outputs": [
    {
     "name": "stdout",
     "output_type": "stream",
     "text": [
      "Tensor: tensor([0.1000, 0.1474, 0.1947, 0.2421, 0.2895, 0.3368, 0.3842, 0.4316, 0.4789,\n",
      "        0.5263, 0.5737, 0.6211, 0.6684, 0.7158, 0.7632, 0.8105, 0.8579, 0.9053,\n",
      "        0.9526, 1.0000])\n",
      "\n",
      "dtype: torch.float32\n",
      "\n",
      "device: cpu\n",
      "\n",
      "shape: torch.Size([20])\n",
      "\n",
      "rerquires gradient?: False\n"
     ]
    }
   ],
   "source": [
    "rangeTensorAutoSteps = pt.linspace(start=0.1, end=1, steps=20)\n",
    "getTensorDetails(rangeTensorAutoSteps)"
   ]
  },
  {
   "cell_type": "markdown",
   "id": "d0ed70a8",
   "metadata": {},
   "source": [
    "## <center>Normal and uniform distributions</center>"
   ]
  },
  {
   "cell_type": "code",
   "execution_count": 103,
   "id": "795b09d9",
   "metadata": {},
   "outputs": [
    {
     "name": "stdout",
     "output_type": "stream",
     "text": [
      "Tensor: tensor([[ 0.4821,  0.6403],\n",
      "        [ 0.1309, -0.6884]])\n",
      "\n",
      "dtype: torch.float32\n",
      "\n",
      "device: cpu\n",
      "\n",
      "shape: torch.Size([2, 2])\n",
      "\n",
      "rerquires gradient?: False\n"
     ]
    }
   ],
   "source": [
    "emptyNormalizedTensor = pt.empty(size=(2,2)).normal_(mean=0, std=1)\n",
    "getTensorDetails(emptyNormalizedTensor)"
   ]
  },
  {
   "cell_type": "code",
   "execution_count": 104,
   "id": "ffceeb57",
   "metadata": {},
   "outputs": [
    {
     "name": "stdout",
     "output_type": "stream",
     "text": [
      "Tensor: tensor([[0.6440, 0.4215],\n",
      "        [0.2798, 0.2463]])\n",
      "\n",
      "dtype: torch.float32\n",
      "\n",
      "device: cpu\n",
      "\n",
      "shape: torch.Size([2, 2])\n",
      "\n",
      "rerquires gradient?: False\n"
     ]
    }
   ],
   "source": [
    "emptyUniformedTensor = pt.empty(size=(2,2)).uniform_(0,1)\n",
    "getTensorDetails(emptyUniformedTensor)"
   ]
  },
  {
   "cell_type": "code",
   "execution_count": null,
   "id": "1b71b69d",
   "metadata": {},
   "outputs": [],
   "source": []
  }
 ],
 "metadata": {
  "kernelspec": {
   "display_name": "Python 3 (ipykernel)",
   "language": "python",
   "name": "python3"
  },
  "language_info": {
   "codemirror_mode": {
    "name": "ipython",
    "version": 3
   },
   "file_extension": ".py",
   "mimetype": "text/x-python",
   "name": "python",
   "nbconvert_exporter": "python",
   "pygments_lexer": "ipython3",
   "version": "3.9.12"
  }
 },
 "nbformat": 4,
 "nbformat_minor": 5
}
